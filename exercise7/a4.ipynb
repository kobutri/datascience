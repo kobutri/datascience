{
 "cells": [
  {
   "cell_type": "markdown",
   "metadata": {},
   "source": [
    "## 4 K-Means Clustering"
   ]
  },
  {
   "cell_type": "code",
   "execution_count": 2,
   "metadata": {
    "vscode": {
     "languageId": "r"
    }
   },
   "outputs": [
    {
     "name": "stderr",
     "output_type": "stream",
     "text": [
      "── \u001b[1mAttaching packages\u001b[22m ─────────────────────────────────────────────────────────────────────────────── tidyverse 1.3.2 ──\n",
      "\u001b[32m✔\u001b[39m \u001b[34mggplot2\u001b[39m 3.4.0      \u001b[32m✔\u001b[39m \u001b[34mpurrr  \u001b[39m 0.3.5 \n",
      "\u001b[32m✔\u001b[39m \u001b[34mtibble \u001b[39m 3.1.8      \u001b[32m✔\u001b[39m \u001b[34mdplyr  \u001b[39m 1.0.10\n",
      "\u001b[32m✔\u001b[39m \u001b[34mtidyr  \u001b[39m 1.2.1      \u001b[32m✔\u001b[39m \u001b[34mstringr\u001b[39m 1.5.0 \n",
      "\u001b[32m✔\u001b[39m \u001b[34mreadr  \u001b[39m 2.1.3      \u001b[32m✔\u001b[39m \u001b[34mforcats\u001b[39m 0.5.2 \n",
      "── \u001b[1mConflicts\u001b[22m ────────────────────────────────────────────────────────────────────────────────── tidyverse_conflicts() ──\n",
      "\u001b[31m✖\u001b[39m \u001b[34mdplyr\u001b[39m::\u001b[32mfilter()\u001b[39m masks \u001b[34mstats\u001b[39m::filter()\n",
      "\u001b[31m✖\u001b[39m \u001b[34mdplyr\u001b[39m::\u001b[32mlag()\u001b[39m    masks \u001b[34mstats\u001b[39m::lag()\n"
     ]
    }
   ],
   "source": [
    "library(tidyverse)"
   ]
  },
  {
   "cell_type": "code",
   "execution_count": 97,
   "metadata": {
    "vscode": {
     "languageId": "r"
    }
   },
   "outputs": [
    {
     "data": {
      "text/html": [
       "<table class=\"dataframe\">\n",
       "<caption>A tibble: 5 × 3</caption>\n",
       "<thead>\n",
       "\t<tr><th scope=col>x</th><th scope=col>y</th><th scope=col>cluster</th></tr>\n",
       "\t<tr><th scope=col>&lt;dbl&gt;</th><th scope=col>&lt;dbl&gt;</th><th scope=col>&lt;chr&gt;</th></tr>\n",
       "</thead>\n",
       "<tbody>\n",
       "\t<tr><td>1</td><td>3</td><td>c1</td></tr>\n",
       "\t<tr><td>3</td><td>3</td><td>c2</td></tr>\n",
       "\t<tr><td>5</td><td>3</td><td>c2</td></tr>\n",
       "\t<tr><td>1</td><td>2</td><td>c1</td></tr>\n",
       "\t<tr><td>5</td><td>2</td><td>c2</td></tr>\n",
       "</tbody>\n",
       "</table>\n"
      ],
      "text/latex": [
       "A tibble: 5 × 3\n",
       "\\begin{tabular}{lll}\n",
       " x & y & cluster\\\\\n",
       " <dbl> & <dbl> & <chr>\\\\\n",
       "\\hline\n",
       "\t 1 & 3 & c1\\\\\n",
       "\t 3 & 3 & c2\\\\\n",
       "\t 5 & 3 & c2\\\\\n",
       "\t 1 & 2 & c1\\\\\n",
       "\t 5 & 2 & c2\\\\\n",
       "\\end{tabular}\n"
      ],
      "text/markdown": [
       "\n",
       "A tibble: 5 × 3\n",
       "\n",
       "| x &lt;dbl&gt; | y &lt;dbl&gt; | cluster &lt;chr&gt; |\n",
       "|---|---|---|\n",
       "| 1 | 3 | c1 |\n",
       "| 3 | 3 | c2 |\n",
       "| 5 | 3 | c2 |\n",
       "| 1 | 2 | c1 |\n",
       "| 5 | 2 | c2 |\n",
       "\n"
      ],
      "text/plain": [
       "  x y cluster\n",
       "1 1 3 c1     \n",
       "2 3 3 c2     \n",
       "3 5 3 c2     \n",
       "4 1 2 c1     \n",
       "5 5 2 c2     "
      ]
     },
     "metadata": {},
     "output_type": "display_data"
    }
   ],
   "source": [
    "data = as_tibble(data.frame(x = c(1,3,5,1,5), y=c(3,3,3,2,2)))\n",
    "centers = as_tibble(data.frame(name=c('c1', 'c2'), x=c(1,5), y=c(0, 4)))\n",
    "nearest_cluster <- Vectorize(function(xd,yd) {\n",
    "    (centers %>% mutate(dist=((x-xd)^2 + (y-yd)^2))%>% slice(which.min(dist)))$name\n",
    "})\n",
    "data['cluster']=apply(data[,c('x', 'y')], 1, function(x) nearest_cluster(x[1], x[2]))\n",
    "head(data)"
   ]
  },
  {
   "cell_type": "code",
   "execution_count": 98,
   "metadata": {
    "vscode": {
     "languageId": "r"
    }
   },
   "outputs": [
    {
     "data": {
      "image/png": "[encoded data removed]",
      "text/plain": [
       "plot without title"
      ]
     },
     "metadata": {
      "image/png": {
       "height": 420,
       "width": 420
      }
     },
     "output_type": "display_data"
    }
   ],
   "source": [
    "ggplot() +\n",
    "    geom_point(data = data, mapping = aes(x=x, y=y, colour=cluster), size=3) +\n",
    "    geom_point(data = centers, mapping = aes(x=x, y=y), colour=\"black\", size=10) + \n",
    "    geom_text(data = centers, mapping = aes(x = x, y=y, label=name), color=\"white\", size=5)"
   ]
  },
  {
   "cell_type": "code",
   "execution_count": 99,
   "metadata": {},
   "outputs": [],
   "source": [
    "for (x in 1:50) {\n",
    "    centers$x = apply(centers[\"name\"], 1, function(name) mean(filter(data, cluster==name[1])$x))\n",
    "    centers$y = apply(centers[\"name\"], 1, function(name) mean(filter(data, cluster==name[1])$y))\n",
    "    data['cluster']=apply(data[,c('x', 'y')], 1, function(x) nearest_cluster(x[1], x[2]))\n",
    "}"
   ]
  },
  {
   "cell_type": "code",
   "execution_count": 100,
   "metadata": {},
   "outputs": [
    {
     "data": {
      "image/png": "[encoded data removed]",
      "text/plain": [
       "plot without title"
      ]
     },
     "metadata": {
      "image/png": {
       "height": 420,
       "width": 420
      }
     },
     "output_type": "display_data"
    }
   ],
   "source": [
    "ggplot() +\n",
    "    geom_point(data = data, mapping = aes(x=x, y=y, colour=cluster), size=3) +\n",
    "    geom_point(data = centers, mapping = aes(x=x, y=y), colour=\"black\", size=10) + \n",
    "    geom_text(data = centers, mapping = aes(x = x, y=y, label=name), color=\"white\", size=5)"
   ]
  },
  {
   "cell_type": "code",
   "execution_count": 101,
   "metadata": {},
   "outputs": [
    {
     "data": {
      "image/png": "[encoded data removed]",
      "text/plain": [
       "plot without title"
      ]
     },
     "metadata": {
      "image/png": {
       "height": 420,
       "width": 420
      }
     },
     "output_type": "display_data"
    }
   ],
   "source": [
    "for (x in 1:100) {\n",
    "    centers$x = apply(centers[\"name\"], 1, function(name) mean(filter(data, cluster==name[1])$x))\n",
    "    centers$y = apply(centers[\"name\"], 1, function(name) mean(filter(data, cluster==name[1])$y))\n",
    "    data['cluster']=apply(data[,c('x', 'y')], 1, function(x) nearest_cluster(x[1], x[2]))\n",
    "}\n",
    "                          \n",
    "ggplot() +\n",
    "    geom_point(data = data, mapping = aes(x=x, y=y, colour=cluster), size=3) +\n",
    "    geom_point(data = centers, mapping = aes(x=x, y=y), colour=\"black\", size=10) + \n",
    "    geom_text(data = centers, mapping = aes(x = x, y=y, label=name), color=\"white\", size=5)"
   ]
  },
  {
   "cell_type": "markdown",
   "metadata": {},
   "source": [
    "looks like we are stable"
   ]
  }
 ],
 "metadata": {
  "kernelspec": {
   "display_name": "R",
   "language": "R",
   "name": "ir"
  },
  "language_info": {
   "codemirror_mode": "r",
   "file_extension": ".r",
   "mimetype": "text/x-r-source",
   "name": "R",
   "pygments_lexer": "r",
   "version": "4.2.2"
  }
 },
 "nbformat": 4,
 "nbformat_minor": 2
}
